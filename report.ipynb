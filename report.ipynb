{
 "cells": [
  {
   "cell_type": "markdown",
   "id": "e5048158",
   "metadata": {},
   "source": [
    "# Predicting Effective Arguments\n",
    "### Proyecto 2 - Análisis Exploratorio\n",
    "\n",
    "- Daniel Alfredo Rayo Roldan\n",
    "- Gerardo Gabriel Pineda Riveiro\n",
    "- Ricardo Chuy\n",
    "- Irving Fabricio Morales Acosta\n",
    "\n",
    "[Link al repositorio aquí](https://github.com/chuy-zip/PROYECTO2_DS)\n"
   ]
  },
  {
   "cell_type": "code",
   "execution_count": 1,
   "id": "64f9d92b",
   "metadata": {},
   "outputs": [],
   "source": [
    "import pandas as pd"
   ]
  },
  {
   "cell_type": "code",
   "execution_count": null,
   "id": "ca6ed783",
   "metadata": {},
   "outputs": [],
   "source": [
    "df = pd.read_csv(\"./data/train.csv\")"
   ]
  },
  {
   "cell_type": "markdown",
   "id": "df4cfcc5",
   "metadata": {},
   "source": [
    "## Diccionario de variables\n",
    "\n",
    "Se trabajó con un dataset que comprendía fragmento de ensayos argumentativos escritos por niños de los Estados Unidos entre 6to y 12vo grado; el conjunto de datos estaba compuesto por 36765 muestras y 5 variables, de las cuales se explicaran a continuación:\n",
    "\n",
    "|Nombre         |Tipo |Significado      | Posibles valores |\n",
    "|------         |--------               |------     |----- |\n",
    "|discourse_id   | categórica | ID para el discurso | -- |\n",
    "|essay_id   | categórica | ID del ensayo al que pertenece el discurso | -- |\n",
    "|discourse_text   | categórica | Texto del discurso | -- |\n",
    "|discourse_type   | categórica | Type de discurso | Lead, Position, Claim, Counterclaim, Rebuttal, Evidence, Concluding Statement|\n",
    "|discourse_effectiveness   | categórica| Efectividad del discurso | Ineffective, Adequate, Effective |\n",
    "\n",
    "### Sobre los diferentes tipo de discursos\n"
   ]
  },
  {
   "cell_type": "code",
   "execution_count": 7,
   "id": "d0d199a8",
   "metadata": {},
   "outputs": [
    {
     "data": {
      "application/vnd.microsoft.datawrangler.viewer.v0+json": {
       "columns": [
        {
         "name": "index",
         "rawType": "int64",
         "type": "integer"
        },
        {
         "name": "discourse_id",
         "rawType": "object",
         "type": "string"
        },
        {
         "name": "essay_id",
         "rawType": "object",
         "type": "string"
        },
        {
         "name": "discourse_text",
         "rawType": "object",
         "type": "string"
        },
        {
         "name": "discourse_type",
         "rawType": "object",
         "type": "string"
        },
        {
         "name": "discourse_effectiveness",
         "rawType": "object",
         "type": "string"
        }
       ],
       "ref": "04ff5ae4-521b-4fd6-a3ae-d2366f2c7fa2",
       "rows": [
        [
         "0",
         "0013cc385424",
         "007ACE74B050",
         "Hi, i'm Isaac, i'm going to be writing about how this face on Mars is a natural landform or if there is life on Mars that made it. The story is about how NASA took a picture of Mars and a face was seen on the planet. NASA doesn't know if the landform was created by life on Mars, or if it is just a natural landform. ",
         "Lead",
         "Adequate"
        ],
        [
         "1",
         "9704a709b505",
         "007ACE74B050",
         "On my perspective, I think that the face is a natural landform because I dont think that there is any life on Mars. In these next few paragraphs, I'll be talking about how I think that is is a natural landform ",
         "Position",
         "Adequate"
        ],
        [
         "2",
         "c22adee811b6",
         "007ACE74B050",
         "I think that the face is a natural landform because there is no life on Mars that we have descovered yet ",
         "Claim",
         "Adequate"
        ],
        [
         "3",
         "a10d361e54e4",
         "007ACE74B050",
         "If life was on Mars, we would know by now. The reason why I think it is a natural landform because, nobody live on Mars in order to create the figure. It says in paragraph 9, \"It's not easy to target Cydonia,\" in which he is saying that its not easy to know if it is a natural landform at this point. In all that they're saying, its probably a natural landform. ",
         "Evidence",
         "Adequate"
        ],
        [
         "4",
         "db3e453ec4e2",
         "007ACE74B050",
         "People thought that the face was formed by alieans because they thought that there was life on Mars. ",
         "Counterclaim",
         "Adequate"
        ],
        [
         "5",
         "36a565e45db7",
         "007ACE74B050",
         "though some say that life on Mars does exist, I think that there is no life on Mars. ",
         "Rebuttal",
         "Ineffective"
        ],
        [
         "6",
         "fb65fe816ba3",
         "007ACE74B050",
         "It says in paragraph 7, on April 5, 1998, Mars Global Surveyor flew over Cydonia for the first time. Michael Malin took a picture of Mars with his Orbiter Camera, that the face was a natural landform. ",
         "Evidence",
         "Adequate"
        ],
        [
         "7",
         "4e472e2584fa",
         "007ACE74B050",
         "Everyone who thought it was made by alieans even though it wasn't, was not satisfied. I think they were not satisfied because they have thought since 1976 that it was really formed by alieans. ",
         "Counterclaim",
         "Adequate"
        ],
        [
         "8",
         "28a94d3ee425",
         "007ACE74B050",
         "Though people were not satified about how the landform was a natural landform, in all, we new that alieans did not form the face. I would like to know how the landform was formed. we know now that life on Mars doesn't exist. ",
         "Concluding Statement",
         "Adequate"
        ],
        [
         "9",
         "d226f06362f5",
         "00944C693682",
         "Limiting the usage of cars has personal and professional support all across the globe and yet it has yet to be embraced everywhere. Statistical proof show where it may help and real life examples of some of the effects of reducing, or getting rid of altogether, cars in one's daily life. While \"recent studies suggest that Americans are buying fewer cars, driving less and getting fewer licenses as each year goes by\" (Source 4), is that really enough or for the right reason? There are plenty of reasons to stop, or limit, the amount of cars being driven on the roads for every kind of person, from the hippie to the businessman, from the mom to the college student. ",
         "Lead",
         "Effective"
        ]
       ],
       "shape": {
        "columns": 5,
        "rows": 10
       }
      },
      "text/html": [
       "<div>\n",
       "<style scoped>\n",
       "    .dataframe tbody tr th:only-of-type {\n",
       "        vertical-align: middle;\n",
       "    }\n",
       "\n",
       "    .dataframe tbody tr th {\n",
       "        vertical-align: top;\n",
       "    }\n",
       "\n",
       "    .dataframe thead th {\n",
       "        text-align: right;\n",
       "    }\n",
       "</style>\n",
       "<table border=\"1\" class=\"dataframe\">\n",
       "  <thead>\n",
       "    <tr style=\"text-align: right;\">\n",
       "      <th></th>\n",
       "      <th>discourse_id</th>\n",
       "      <th>essay_id</th>\n",
       "      <th>discourse_text</th>\n",
       "      <th>discourse_type</th>\n",
       "      <th>discourse_effectiveness</th>\n",
       "    </tr>\n",
       "  </thead>\n",
       "  <tbody>\n",
       "    <tr>\n",
       "      <th>0</th>\n",
       "      <td>0013cc385424</td>\n",
       "      <td>007ACE74B050</td>\n",
       "      <td>Hi, i'm Isaac, i'm going to be writing about h...</td>\n",
       "      <td>Lead</td>\n",
       "      <td>Adequate</td>\n",
       "    </tr>\n",
       "    <tr>\n",
       "      <th>1</th>\n",
       "      <td>9704a709b505</td>\n",
       "      <td>007ACE74B050</td>\n",
       "      <td>On my perspective, I think that the face is a ...</td>\n",
       "      <td>Position</td>\n",
       "      <td>Adequate</td>\n",
       "    </tr>\n",
       "    <tr>\n",
       "      <th>2</th>\n",
       "      <td>c22adee811b6</td>\n",
       "      <td>007ACE74B050</td>\n",
       "      <td>I think that the face is a natural landform be...</td>\n",
       "      <td>Claim</td>\n",
       "      <td>Adequate</td>\n",
       "    </tr>\n",
       "    <tr>\n",
       "      <th>3</th>\n",
       "      <td>a10d361e54e4</td>\n",
       "      <td>007ACE74B050</td>\n",
       "      <td>If life was on Mars, we would know by now. The...</td>\n",
       "      <td>Evidence</td>\n",
       "      <td>Adequate</td>\n",
       "    </tr>\n",
       "    <tr>\n",
       "      <th>4</th>\n",
       "      <td>db3e453ec4e2</td>\n",
       "      <td>007ACE74B050</td>\n",
       "      <td>People thought that the face was formed by ali...</td>\n",
       "      <td>Counterclaim</td>\n",
       "      <td>Adequate</td>\n",
       "    </tr>\n",
       "    <tr>\n",
       "      <th>5</th>\n",
       "      <td>36a565e45db7</td>\n",
       "      <td>007ACE74B050</td>\n",
       "      <td>though some say that life on Mars does exist, ...</td>\n",
       "      <td>Rebuttal</td>\n",
       "      <td>Ineffective</td>\n",
       "    </tr>\n",
       "    <tr>\n",
       "      <th>6</th>\n",
       "      <td>fb65fe816ba3</td>\n",
       "      <td>007ACE74B050</td>\n",
       "      <td>It says in paragraph 7, on April 5, 1998, Mars...</td>\n",
       "      <td>Evidence</td>\n",
       "      <td>Adequate</td>\n",
       "    </tr>\n",
       "    <tr>\n",
       "      <th>7</th>\n",
       "      <td>4e472e2584fa</td>\n",
       "      <td>007ACE74B050</td>\n",
       "      <td>Everyone who thought it was made by alieans ev...</td>\n",
       "      <td>Counterclaim</td>\n",
       "      <td>Adequate</td>\n",
       "    </tr>\n",
       "    <tr>\n",
       "      <th>8</th>\n",
       "      <td>28a94d3ee425</td>\n",
       "      <td>007ACE74B050</td>\n",
       "      <td>Though people were not satified about how the ...</td>\n",
       "      <td>Concluding Statement</td>\n",
       "      <td>Adequate</td>\n",
       "    </tr>\n",
       "    <tr>\n",
       "      <th>9</th>\n",
       "      <td>d226f06362f5</td>\n",
       "      <td>00944C693682</td>\n",
       "      <td>Limiting the usage of cars has personal and pr...</td>\n",
       "      <td>Lead</td>\n",
       "      <td>Effective</td>\n",
       "    </tr>\n",
       "  </tbody>\n",
       "</table>\n",
       "</div>"
      ],
      "text/plain": [
       "   discourse_id      essay_id  \\\n",
       "0  0013cc385424  007ACE74B050   \n",
       "1  9704a709b505  007ACE74B050   \n",
       "2  c22adee811b6  007ACE74B050   \n",
       "3  a10d361e54e4  007ACE74B050   \n",
       "4  db3e453ec4e2  007ACE74B050   \n",
       "5  36a565e45db7  007ACE74B050   \n",
       "6  fb65fe816ba3  007ACE74B050   \n",
       "7  4e472e2584fa  007ACE74B050   \n",
       "8  28a94d3ee425  007ACE74B050   \n",
       "9  d226f06362f5  00944C693682   \n",
       "\n",
       "                                      discourse_text        discourse_type  \\\n",
       "0  Hi, i'm Isaac, i'm going to be writing about h...                  Lead   \n",
       "1  On my perspective, I think that the face is a ...              Position   \n",
       "2  I think that the face is a natural landform be...                 Claim   \n",
       "3  If life was on Mars, we would know by now. The...              Evidence   \n",
       "4  People thought that the face was formed by ali...          Counterclaim   \n",
       "5  though some say that life on Mars does exist, ...              Rebuttal   \n",
       "6  It says in paragraph 7, on April 5, 1998, Mars...              Evidence   \n",
       "7  Everyone who thought it was made by alieans ev...          Counterclaim   \n",
       "8  Though people were not satified about how the ...  Concluding Statement   \n",
       "9  Limiting the usage of cars has personal and pr...                  Lead   \n",
       "\n",
       "  discourse_effectiveness  \n",
       "0                Adequate  \n",
       "1                Adequate  \n",
       "2                Adequate  \n",
       "3                Adequate  \n",
       "4                Adequate  \n",
       "5             Ineffective  \n",
       "6                Adequate  \n",
       "7                Adequate  \n",
       "8                Adequate  \n",
       "9               Effective  "
      ]
     },
     "execution_count": 7,
     "metadata": {},
     "output_type": "execute_result"
    }
   ],
   "source": [
    "df.head(10)"
   ]
  },
  {
   "cell_type": "code",
   "execution_count": 14,
   "id": "c2ea11ce",
   "metadata": {},
   "outputs": [
    {
     "data": {
      "text/plain": [
       "array(['0013cc385424', '9704a709b505', 'c22adee811b6', ...,\n",
       "       'f1b78becd573', 'cc184624ca8e', 'c8a973681feb'],\n",
       "      shape=(36765,), dtype=object)"
      ]
     },
     "execution_count": 14,
     "metadata": {},
     "output_type": "execute_result"
    }
   ],
   "source": [
    "df[\"discourse_id\"].unique()"
   ]
  },
  {
   "cell_type": "code",
   "execution_count": 15,
   "id": "c1244a90",
   "metadata": {},
   "outputs": [
    {
     "data": {
      "text/plain": [
       "array(['007ACE74B050', '00944C693682', '00BD97EA4041', ...,\n",
       "       'FEF42864AE28', 'FF9E0379CD98', 'FFA381E58FC6'],\n",
       "      shape=(4191,), dtype=object)"
      ]
     },
     "execution_count": 15,
     "metadata": {},
     "output_type": "execute_result"
    }
   ],
   "source": [
    "df[\"essay_id\"].unique()"
   ]
  },
  {
   "cell_type": "code",
   "execution_count": 16,
   "id": "314b9871",
   "metadata": {},
   "outputs": [
    {
     "data": {
      "text/plain": [
       "(36765, 5)"
      ]
     },
     "execution_count": 16,
     "metadata": {},
     "output_type": "execute_result"
    }
   ],
   "source": [
    "df.shape"
   ]
  }
 ],
 "metadata": {
  "kernelspec": {
   "display_name": ".venv",
   "language": "python",
   "name": "python3"
  },
  "language_info": {
   "codemirror_mode": {
    "name": "ipython",
    "version": 3
   },
   "file_extension": ".py",
   "mimetype": "text/x-python",
   "name": "python",
   "nbconvert_exporter": "python",
   "pygments_lexer": "ipython3",
   "version": "3.13.7"
  }
 },
 "nbformat": 4,
 "nbformat_minor": 5
}
