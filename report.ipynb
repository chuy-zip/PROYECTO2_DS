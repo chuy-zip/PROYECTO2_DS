{
 "cells": [
  {
   "cell_type": "markdown",
   "id": "e5048158",
   "metadata": {},
   "source": [
    "# Predicting Effective Arguments\n",
    "### Proyecto 2 - Análisis Exploratorio\n",
    "\n",
    "- Daniel Alfredo Rayo Roldan\n",
    "- Gerardo Gabriel Pineda Riveiro\n",
    "- Ricardo Chuy\n",
    "- Irving Fabricio Morales Acosta\n",
    "\n",
    "[Link al repositorio aquí](https://github.com/chuy-zip/PROYECTO2_DS)\n"
   ]
  },
  {
   "cell_type": "code",
   "execution_count": 1,
   "id": "64f9d92b",
   "metadata": {},
   "outputs": [],
   "source": [
    "import warnings\n",
    "warnings.filterwarnings('ignore')\n",
    "\n",
    "import pandas as pd\n",
    "import matplotlib.pyplot as plt\n",
    "import numpy as np\n",
    "import seaborn as sns\n",
    "import re\n",
    "import string\n",
    "import nltk\n",
    "from nltk.corpus import stopwords as nltk_stop\n",
    "from nltk.util import ngrams\n",
    "from nltk.tokenize import word_tokenize\n",
    "from nltk.stem import WordNetLemmatizer\n",
    "from nltk.stem import WordNetLemmatizer\n",
    "from textblob import TextBlob\n",
    "import requests"
   ]
  },
  {
   "cell_type": "code",
   "execution_count": 2,
   "id": "ca6ed783",
   "metadata": {},
   "outputs": [],
   "source": [
    "df = pd.read_csv(\"./data/train.csv\")"
   ]
  },
  {
   "cell_type": "markdown",
   "id": "df4cfcc5",
   "metadata": {},
   "source": [
    "## Diccionario de variables\n",
    "\n",
    "Se trabajó con un dataset que comprendía fragmento de ensayos argumentativos escritos por niños de los Estados Unidos entre 6to y 12vo grado; el conjunto de datos estaba compuesto por 36765 muestras y 5 variables, de las cuales se explicaran a continuación:\n",
    "\n",
    "|Nombre         |Tipo |Significado      | Posibles valores |\n",
    "|------         |--------               |------     |----- |\n",
    "|discourse_id   | categórica | ID para el discurso | -- |\n",
    "|essay_id   | categórica | ID del ensayo al que pertenece el discurso | -- |\n",
    "|discourse_text   | categórica | Texto del discurso | -- |\n",
    "|discourse_type   | categórica | Type de discurso | Lead, Position, Claim, Counterclaim, Rebuttal, Evidence, Concluding Statement|\n",
    "|discourse_effectiveness   | categórica| Efectividad del discurso | Ineffective, Adequate, Effective |\n",
    "\n",
    "### Sobre los diferentes tipo de discursos\n",
    "\n",
    "El dataset fue creado a partir de un corpuse de 4191 ensayos escritos por niños. Estos ensayos fueron analizados por expertos que identificaron diferentes secciones de cada ensayo en \"discursos\" o \"pasajes\", estos los diferentes tipos de pasajes:\n",
    "\n",
    "1. **Introducción (Lead):** Fragmento de inicio que comienza con una estadística, una cita, una descripción o algún otro recurso para captar la atención del lector y señalar la tesis.\n",
    "\n",
    "2. **Postura (Position):** Una opinión o conclusión sobre la pregunta principal.\n",
    "\n",
    "3. **Argumento (Claim):** Una afirmación que respalda la postura.\n",
    "\n",
    "4. **Contraargumento (CounterClaim):** Una afirmación que refuta otro argumento o ofrece una razón contraria a la postura.\n",
    "\n",
    "5. **Refutación (Rebuttal):** Un argumento que refuta una contraargumento.\n",
    "\n",
    "6. **Evidencia (Evidence):**  Ideas o ejemplos que respaldan los argumentos, contraargumentos o refutaciones.\n",
    "\n",
    "7. **Conclusión (Concluding Statement):**  una declaración final que reafirma los argumentos y postura.\n",
    "\n",
    "Un ensayo puede estar compuesto por varios fragmentos de diferentes tipos ( varios fragmentos comparten el mismo `essay_id`), cada parte a su vez podía caer en una de tres calificaciones: \n",
    "\n",
    "1. **Efectiva**\n",
    "2. **Adecuada**\n",
    "3. **Inadecuada**"
   ]
  },
  {
   "cell_type": "code",
   "execution_count": 3,
   "id": "d0d199a8",
   "metadata": {},
   "outputs": [
    {
     "data": {
      "application/vnd.microsoft.datawrangler.viewer.v0+json": {
       "columns": [
        {
         "name": "index",
         "rawType": "int64",
         "type": "integer"
        },
        {
         "name": "discourse_id",
         "rawType": "object",
         "type": "string"
        },
        {
         "name": "essay_id",
         "rawType": "object",
         "type": "string"
        },
        {
         "name": "discourse_text",
         "rawType": "object",
         "type": "string"
        },
        {
         "name": "discourse_type",
         "rawType": "object",
         "type": "string"
        },
        {
         "name": "discourse_effectiveness",
         "rawType": "object",
         "type": "string"
        }
       ],
       "ref": "241db723-fb61-464d-bca7-f6f8edc93256",
       "rows": [
        [
         "0",
         "0013cc385424",
         "007ACE74B050",
         "Hi, i'm Isaac, i'm going to be writing about how this face on Mars is a natural landform or if there is life on Mars that made it. The story is about how NASA took a picture of Mars and a face was seen on the planet. NASA doesn't know if the landform was created by life on Mars, or if it is just a natural landform. ",
         "Lead",
         "Adequate"
        ],
        [
         "1",
         "9704a709b505",
         "007ACE74B050",
         "On my perspective, I think that the face is a natural landform because I dont think that there is any life on Mars. In these next few paragraphs, I'll be talking about how I think that is is a natural landform ",
         "Position",
         "Adequate"
        ],
        [
         "2",
         "c22adee811b6",
         "007ACE74B050",
         "I think that the face is a natural landform because there is no life on Mars that we have descovered yet ",
         "Claim",
         "Adequate"
        ],
        [
         "3",
         "a10d361e54e4",
         "007ACE74B050",
         "If life was on Mars, we would know by now. The reason why I think it is a natural landform because, nobody live on Mars in order to create the figure. It says in paragraph 9, \"It's not easy to target Cydonia,\" in which he is saying that its not easy to know if it is a natural landform at this point. In all that they're saying, its probably a natural landform. ",
         "Evidence",
         "Adequate"
        ],
        [
         "4",
         "db3e453ec4e2",
         "007ACE74B050",
         "People thought that the face was formed by alieans because they thought that there was life on Mars. ",
         "Counterclaim",
         "Adequate"
        ],
        [
         "5",
         "36a565e45db7",
         "007ACE74B050",
         "though some say that life on Mars does exist, I think that there is no life on Mars. ",
         "Rebuttal",
         "Ineffective"
        ],
        [
         "6",
         "fb65fe816ba3",
         "007ACE74B050",
         "It says in paragraph 7, on April 5, 1998, Mars Global Surveyor flew over Cydonia for the first time. Michael Malin took a picture of Mars with his Orbiter Camera, that the face was a natural landform. ",
         "Evidence",
         "Adequate"
        ],
        [
         "7",
         "4e472e2584fa",
         "007ACE74B050",
         "Everyone who thought it was made by alieans even though it wasn't, was not satisfied. I think they were not satisfied because they have thought since 1976 that it was really formed by alieans. ",
         "Counterclaim",
         "Adequate"
        ],
        [
         "8",
         "28a94d3ee425",
         "007ACE74B050",
         "Though people were not satified about how the landform was a natural landform, in all, we new that alieans did not form the face. I would like to know how the landform was formed. we know now that life on Mars doesn't exist. ",
         "Concluding Statement",
         "Adequate"
        ],
        [
         "9",
         "d226f06362f5",
         "00944C693682",
         "Limiting the usage of cars has personal and professional support all across the globe and yet it has yet to be embraced everywhere. Statistical proof show where it may help and real life examples of some of the effects of reducing, or getting rid of altogether, cars in one's daily life. While \"recent studies suggest that Americans are buying fewer cars, driving less and getting fewer licenses as each year goes by\" (Source 4), is that really enough or for the right reason? There are plenty of reasons to stop, or limit, the amount of cars being driven on the roads for every kind of person, from the hippie to the businessman, from the mom to the college student. ",
         "Lead",
         "Effective"
        ]
       ],
       "shape": {
        "columns": 5,
        "rows": 10
       }
      },
      "text/html": [
       "<div>\n",
       "<style scoped>\n",
       "    .dataframe tbody tr th:only-of-type {\n",
       "        vertical-align: middle;\n",
       "    }\n",
       "\n",
       "    .dataframe tbody tr th {\n",
       "        vertical-align: top;\n",
       "    }\n",
       "\n",
       "    .dataframe thead th {\n",
       "        text-align: right;\n",
       "    }\n",
       "</style>\n",
       "<table border=\"1\" class=\"dataframe\">\n",
       "  <thead>\n",
       "    <tr style=\"text-align: right;\">\n",
       "      <th></th>\n",
       "      <th>discourse_id</th>\n",
       "      <th>essay_id</th>\n",
       "      <th>discourse_text</th>\n",
       "      <th>discourse_type</th>\n",
       "      <th>discourse_effectiveness</th>\n",
       "    </tr>\n",
       "  </thead>\n",
       "  <tbody>\n",
       "    <tr>\n",
       "      <th>0</th>\n",
       "      <td>0013cc385424</td>\n",
       "      <td>007ACE74B050</td>\n",
       "      <td>Hi, i'm Isaac, i'm going to be writing about h...</td>\n",
       "      <td>Lead</td>\n",
       "      <td>Adequate</td>\n",
       "    </tr>\n",
       "    <tr>\n",
       "      <th>1</th>\n",
       "      <td>9704a709b505</td>\n",
       "      <td>007ACE74B050</td>\n",
       "      <td>On my perspective, I think that the face is a ...</td>\n",
       "      <td>Position</td>\n",
       "      <td>Adequate</td>\n",
       "    </tr>\n",
       "    <tr>\n",
       "      <th>2</th>\n",
       "      <td>c22adee811b6</td>\n",
       "      <td>007ACE74B050</td>\n",
       "      <td>I think that the face is a natural landform be...</td>\n",
       "      <td>Claim</td>\n",
       "      <td>Adequate</td>\n",
       "    </tr>\n",
       "    <tr>\n",
       "      <th>3</th>\n",
       "      <td>a10d361e54e4</td>\n",
       "      <td>007ACE74B050</td>\n",
       "      <td>If life was on Mars, we would know by now. The...</td>\n",
       "      <td>Evidence</td>\n",
       "      <td>Adequate</td>\n",
       "    </tr>\n",
       "    <tr>\n",
       "      <th>4</th>\n",
       "      <td>db3e453ec4e2</td>\n",
       "      <td>007ACE74B050</td>\n",
       "      <td>People thought that the face was formed by ali...</td>\n",
       "      <td>Counterclaim</td>\n",
       "      <td>Adequate</td>\n",
       "    </tr>\n",
       "    <tr>\n",
       "      <th>5</th>\n",
       "      <td>36a565e45db7</td>\n",
       "      <td>007ACE74B050</td>\n",
       "      <td>though some say that life on Mars does exist, ...</td>\n",
       "      <td>Rebuttal</td>\n",
       "      <td>Ineffective</td>\n",
       "    </tr>\n",
       "    <tr>\n",
       "      <th>6</th>\n",
       "      <td>fb65fe816ba3</td>\n",
       "      <td>007ACE74B050</td>\n",
       "      <td>It says in paragraph 7, on April 5, 1998, Mars...</td>\n",
       "      <td>Evidence</td>\n",
       "      <td>Adequate</td>\n",
       "    </tr>\n",
       "    <tr>\n",
       "      <th>7</th>\n",
       "      <td>4e472e2584fa</td>\n",
       "      <td>007ACE74B050</td>\n",
       "      <td>Everyone who thought it was made by alieans ev...</td>\n",
       "      <td>Counterclaim</td>\n",
       "      <td>Adequate</td>\n",
       "    </tr>\n",
       "    <tr>\n",
       "      <th>8</th>\n",
       "      <td>28a94d3ee425</td>\n",
       "      <td>007ACE74B050</td>\n",
       "      <td>Though people were not satified about how the ...</td>\n",
       "      <td>Concluding Statement</td>\n",
       "      <td>Adequate</td>\n",
       "    </tr>\n",
       "    <tr>\n",
       "      <th>9</th>\n",
       "      <td>d226f06362f5</td>\n",
       "      <td>00944C693682</td>\n",
       "      <td>Limiting the usage of cars has personal and pr...</td>\n",
       "      <td>Lead</td>\n",
       "      <td>Effective</td>\n",
       "    </tr>\n",
       "  </tbody>\n",
       "</table>\n",
       "</div>"
      ],
      "text/plain": [
       "   discourse_id      essay_id  \\\n",
       "0  0013cc385424  007ACE74B050   \n",
       "1  9704a709b505  007ACE74B050   \n",
       "2  c22adee811b6  007ACE74B050   \n",
       "3  a10d361e54e4  007ACE74B050   \n",
       "4  db3e453ec4e2  007ACE74B050   \n",
       "5  36a565e45db7  007ACE74B050   \n",
       "6  fb65fe816ba3  007ACE74B050   \n",
       "7  4e472e2584fa  007ACE74B050   \n",
       "8  28a94d3ee425  007ACE74B050   \n",
       "9  d226f06362f5  00944C693682   \n",
       "\n",
       "                                      discourse_text        discourse_type  \\\n",
       "0  Hi, i'm Isaac, i'm going to be writing about h...                  Lead   \n",
       "1  On my perspective, I think that the face is a ...              Position   \n",
       "2  I think that the face is a natural landform be...                 Claim   \n",
       "3  If life was on Mars, we would know by now. The...              Evidence   \n",
       "4  People thought that the face was formed by ali...          Counterclaim   \n",
       "5  though some say that life on Mars does exist, ...              Rebuttal   \n",
       "6  It says in paragraph 7, on April 5, 1998, Mars...              Evidence   \n",
       "7  Everyone who thought it was made by alieans ev...          Counterclaim   \n",
       "8  Though people were not satified about how the ...  Concluding Statement   \n",
       "9  Limiting the usage of cars has personal and pr...                  Lead   \n",
       "\n",
       "  discourse_effectiveness  \n",
       "0                Adequate  \n",
       "1                Adequate  \n",
       "2                Adequate  \n",
       "3                Adequate  \n",
       "4                Adequate  \n",
       "5             Ineffective  \n",
       "6                Adequate  \n",
       "7                Adequate  \n",
       "8                Adequate  \n",
       "9               Effective  "
      ]
     },
     "execution_count": 3,
     "metadata": {},
     "output_type": "execute_result"
    }
   ],
   "source": [
    "df.head(10)"
   ]
  },
  {
   "cell_type": "markdown",
   "id": "f218d6c8",
   "metadata": {},
   "source": [
    "## Preprocesamiento\n",
    "\n",
    "Para poder analizar más a detalle las carácteristicas de los diferentes tipos primero se aplicará un preprocesamiento a los fragmentos de texto para poder remover las palabras conectivas, signos de puntuación y minimizar el texto. \n",
    "\n",
    "Sin embargo, primero hay que comprobar por la presencia de valores nulos o faltantes:"
   ]
  },
  {
   "cell_type": "code",
   "execution_count": 4,
   "id": "0129d147",
   "metadata": {},
   "outputs": [
    {
     "data": {
      "application/vnd.microsoft.datawrangler.viewer.v0+json": {
       "columns": [
        {
         "name": "index",
         "rawType": "object",
         "type": "string"
        },
        {
         "name": "0",
         "rawType": "int64",
         "type": "integer"
        }
       ],
       "ref": "0b45bf4d-40ed-4dd7-bcd6-147afe2b4f24",
       "rows": [
        [
         "discourse_id",
         "0"
        ],
        [
         "essay_id",
         "0"
        ],
        [
         "discourse_text",
         "0"
        ],
        [
         "discourse_type",
         "0"
        ],
        [
         "discourse_effectiveness",
         "0"
        ]
       ],
       "shape": {
        "columns": 1,
        "rows": 5
       }
      },
      "text/plain": [
       "discourse_id               0\n",
       "essay_id                   0\n",
       "discourse_text             0\n",
       "discourse_type             0\n",
       "discourse_effectiveness    0\n",
       "dtype: int64"
      ]
     },
     "execution_count": 4,
     "metadata": {},
     "output_type": "execute_result"
    }
   ],
   "source": [
    "df.isnull().sum()"
   ]
  },
  {
   "cell_type": "markdown",
   "id": "0e2b06dc",
   "metadata": {},
   "source": [
    "Habiendo comprobado que no hay datos nulos evidentes se procederá a agregar procesar el texto aplicando las siguientes transformaciones: \n",
    "\n",
    "- Todas las letras a minúscula.\n",
    "- Eliminación de signos de puntuación.\n",
    "- Eliminiación de palabras conectivas.\n",
    "- Eliminación de caracteres de escapado.\n",
    "- Traducción de verbos a su versión en infinitivo\n",
    "- Traducción de sustantivos a su versión en singular\n"
   ]
  },
  {
   "cell_type": "code",
   "execution_count": 5,
   "id": "3275809e",
   "metadata": {},
   "outputs": [],
   "source": [
    "resources = [\"punkt\", \"punkt_tab\", \"stopwords\", \"wordnet\"]\n",
    "for r in resources:\n",
    "    nltk.download(r, quiet=True)\n",
    "\n",
    "nltk.data.path.append('/home/smaug/nltk_data')"
   ]
  },
  {
   "cell_type": "code",
   "execution_count": 6,
   "id": "819c610d",
   "metadata": {},
   "outputs": [],
   "source": [
    "wnl = WordNetLemmatizer()\n",
    "stopwords = set(nltk_stop.words(\"english\"))\n",
    "negs = {\"no\", \"not\", \"n't\"}\n",
    "stopwords = {w for w in stopwords if w.lower() not in negs}\n",
    "\n",
    "def preprocess_essay(text):\n",
    "    text = text.lower()\n",
    "    \n",
    "    text = ' '.join(text.split())\n",
    "    \n",
    "    tokens = word_tokenize(text)\n",
    "    \n",
    "    processed_tokens = []\n",
    "    for token in tokens:\n",
    "        if (len(token) > 1 and \n",
    "            token.isalpha() and \n",
    "            token not in stopwords):\n",
    "            lemmatized = wnl.lemmatize(token)\n",
    "            processed_tokens.append(lemmatized)\n",
    "    \n",
    "    return processed_tokens"
   ]
  },
  {
   "cell_type": "code",
   "execution_count": 7,
   "id": "c33913e5",
   "metadata": {},
   "outputs": [],
   "source": [
    "df[\"tokens\"] = df[\"discourse_text\"].map(preprocess_essay)\n",
    "df[\"text_clean\"] = df[\"tokens\"].map(lambda ts: \" \".join(ts))"
   ]
  },
  {
   "cell_type": "markdown",
   "id": "32fef160",
   "metadata": {},
   "source": [
    "Este es un ejemplo de las transformaciones que sufrio el texto, donde se terminó al finar con una conjunto de texto de palabras normalizadas:"
   ]
  },
  {
   "cell_type": "code",
   "execution_count": 8,
   "id": "e221374c",
   "metadata": {},
   "outputs": [
    {
     "name": "stdout",
     "output_type": "stream",
     "text": [
      "                                      discourse_text  \\\n",
      "0  Hi, i'm Isaac, i'm going to be writing about h...   \n",
      "\n",
      "                                              tokens  \\\n",
      "0  [hi, isaac, going, writing, face, mar, natural...   \n",
      "\n",
      "                                          text_clean  \n",
      "0  hi isaac going writing face mar natural landfo...  \n"
     ]
    }
   ],
   "source": [
    "print(df[[\"discourse_text\",\"tokens\",\"text_clean\"]].head(1))"
   ]
  },
  {
   "cell_type": "markdown",
   "id": "eba8c8c2",
   "metadata": {},
   "source": [
    "Estas serían las primeras lineas del dataframe trabajado, el cual se guardo en su propio csv, para evitar procesar todo nuevamente."
   ]
  },
  {
   "cell_type": "code",
   "execution_count": 9,
   "id": "d591166f",
   "metadata": {},
   "outputs": [
    {
     "data": {
      "application/vnd.microsoft.datawrangler.viewer.v0+json": {
       "columns": [
        {
         "name": "index",
         "rawType": "int64",
         "type": "integer"
        },
        {
         "name": "discourse_id",
         "rawType": "object",
         "type": "string"
        },
        {
         "name": "essay_id",
         "rawType": "object",
         "type": "string"
        },
        {
         "name": "discourse_text",
         "rawType": "object",
         "type": "string"
        },
        {
         "name": "discourse_type",
         "rawType": "object",
         "type": "string"
        },
        {
         "name": "discourse_effectiveness",
         "rawType": "object",
         "type": "string"
        },
        {
         "name": "tokens",
         "rawType": "object",
         "type": "unknown"
        },
        {
         "name": "text_clean",
         "rawType": "object",
         "type": "string"
        }
       ],
       "ref": "00bdb7fc-d574-41f1-86da-7a53b2ffac35",
       "rows": [
        [
         "0",
         "0013cc385424",
         "007ACE74B050",
         "Hi, i'm Isaac, i'm going to be writing about how this face on Mars is a natural landform or if there is life on Mars that made it. The story is about how NASA took a picture of Mars and a face was seen on the planet. NASA doesn't know if the landform was created by life on Mars, or if it is just a natural landform. ",
         "Lead",
         "Adequate",
         "['hi', 'isaac', 'going', 'writing', 'face', 'mar', 'natural', 'landform', 'life', 'mar', 'made', 'story', 'nasa', 'took', 'picture', 'mar', 'face', 'seen', 'planet', 'nasa', 'know', 'landform', 'created', 'life', 'mar', 'natural', 'landform']",
         "hi isaac going writing face mar natural landform life mar made story nasa took picture mar face seen planet nasa know landform created life mar natural landform"
        ],
        [
         "1",
         "9704a709b505",
         "007ACE74B050",
         "On my perspective, I think that the face is a natural landform because I dont think that there is any life on Mars. In these next few paragraphs, I'll be talking about how I think that is is a natural landform ",
         "Position",
         "Adequate",
         "['perspective', 'think', 'face', 'natural', 'landform', 'dont', 'think', 'life', 'mar', 'next', 'paragraph', 'talking', 'think', 'natural', 'landform']",
         "perspective think face natural landform dont think life mar next paragraph talking think natural landform"
        ],
        [
         "2",
         "c22adee811b6",
         "007ACE74B050",
         "I think that the face is a natural landform because there is no life on Mars that we have descovered yet ",
         "Claim",
         "Adequate",
         "['think', 'face', 'natural', 'landform', 'no', 'life', 'mar', 'descovered', 'yet']",
         "think face natural landform no life mar descovered yet"
        ],
        [
         "3",
         "a10d361e54e4",
         "007ACE74B050",
         "If life was on Mars, we would know by now. The reason why I think it is a natural landform because, nobody live on Mars in order to create the figure. It says in paragraph 9, \"It's not easy to target Cydonia,\" in which he is saying that its not easy to know if it is a natural landform at this point. In all that they're saying, its probably a natural landform. ",
         "Evidence",
         "Adequate",
         "['life', 'mar', 'would', 'know', 'reason', 'think', 'natural', 'landform', 'nobody', 'live', 'mar', 'order', 'create', 'figure', 'say', 'paragraph', 'not', 'easy', 'target', 'cydonia', 'saying', 'not', 'easy', 'know', 'natural', 'landform', 'point', 'saying', 'probably', 'natural', 'landform']",
         "life mar would know reason think natural landform nobody live mar order create figure say paragraph not easy target cydonia saying not easy know natural landform point saying probably natural landform"
        ],
        [
         "4",
         "db3e453ec4e2",
         "007ACE74B050",
         "People thought that the face was formed by alieans because they thought that there was life on Mars. ",
         "Counterclaim",
         "Adequate",
         "['people', 'thought', 'face', 'formed', 'alieans', 'thought', 'life', 'mar']",
         "people thought face formed alieans thought life mar"
        ],
        [
         "5",
         "36a565e45db7",
         "007ACE74B050",
         "though some say that life on Mars does exist, I think that there is no life on Mars. ",
         "Rebuttal",
         "Ineffective",
         "['though', 'say', 'life', 'mar', 'exist', 'think', 'no', 'life', 'mar']",
         "though say life mar exist think no life mar"
        ],
        [
         "6",
         "fb65fe816ba3",
         "007ACE74B050",
         "It says in paragraph 7, on April 5, 1998, Mars Global Surveyor flew over Cydonia for the first time. Michael Malin took a picture of Mars with his Orbiter Camera, that the face was a natural landform. ",
         "Evidence",
         "Adequate",
         "['say', 'paragraph', 'april', 'mar', 'global', 'surveyor', 'flew', 'cydonia', 'first', 'time', 'michael', 'malin', 'took', 'picture', 'mar', 'orbiter', 'camera', 'face', 'natural', 'landform']",
         "say paragraph april mar global surveyor flew cydonia first time michael malin took picture mar orbiter camera face natural landform"
        ],
        [
         "7",
         "4e472e2584fa",
         "007ACE74B050",
         "Everyone who thought it was made by alieans even though it wasn't, was not satisfied. I think they were not satisfied because they have thought since 1976 that it was really formed by alieans. ",
         "Counterclaim",
         "Adequate",
         "['everyone', 'thought', 'made', 'alieans', 'even', 'though', 'not', 'satisfied', 'think', 'not', 'satisfied', 'thought', 'since', 'really', 'formed', 'alieans']",
         "everyone thought made alieans even though not satisfied think not satisfied thought since really formed alieans"
        ],
        [
         "8",
         "28a94d3ee425",
         "007ACE74B050",
         "Though people were not satified about how the landform was a natural landform, in all, we new that alieans did not form the face. I would like to know how the landform was formed. we know now that life on Mars doesn't exist. ",
         "Concluding Statement",
         "Adequate",
         "['though', 'people', 'not', 'satified', 'landform', 'natural', 'landform', 'new', 'alieans', 'not', 'form', 'face', 'would', 'like', 'know', 'landform', 'formed', 'know', 'life', 'mar', 'exist']",
         "though people not satified landform natural landform new alieans not form face would like know landform formed know life mar exist"
        ],
        [
         "9",
         "d226f06362f5",
         "00944C693682",
         "Limiting the usage of cars has personal and professional support all across the globe and yet it has yet to be embraced everywhere. Statistical proof show where it may help and real life examples of some of the effects of reducing, or getting rid of altogether, cars in one's daily life. While \"recent studies suggest that Americans are buying fewer cars, driving less and getting fewer licenses as each year goes by\" (Source 4), is that really enough or for the right reason? There are plenty of reasons to stop, or limit, the amount of cars being driven on the roads for every kind of person, from the hippie to the businessman, from the mom to the college student. ",
         "Lead",
         "Effective",
         "['limiting', 'usage', 'car', 'personal', 'professional', 'support', 'across', 'globe', 'yet', 'yet', 'embraced', 'everywhere', 'statistical', 'proof', 'show', 'may', 'help', 'real', 'life', 'example', 'effect', 'reducing', 'getting', 'rid', 'altogether', 'car', 'one', 'daily', 'life', 'recent', 'study', 'suggest', 'american', 'buying', 'fewer', 'car', 'driving', 'less', 'getting', 'fewer', 'license', 'year', 'go', 'source', 'really', 'enough', 'right', 'reason', 'plenty', 'reason', 'stop', 'limit', 'amount', 'car', 'driven', 'road', 'every', 'kind', 'person', 'hippie', 'businessman', 'mom', 'college', 'student']",
         "limiting usage car personal professional support across globe yet yet embraced everywhere statistical proof show may help real life example effect reducing getting rid altogether car one daily life recent study suggest american buying fewer car driving less getting fewer license year go source really enough right reason plenty reason stop limit amount car driven road every kind person hippie businessman mom college student"
        ]
       ],
       "shape": {
        "columns": 7,
        "rows": 10
       }
      },
      "text/html": [
       "<div>\n",
       "<style scoped>\n",
       "    .dataframe tbody tr th:only-of-type {\n",
       "        vertical-align: middle;\n",
       "    }\n",
       "\n",
       "    .dataframe tbody tr th {\n",
       "        vertical-align: top;\n",
       "    }\n",
       "\n",
       "    .dataframe thead th {\n",
       "        text-align: right;\n",
       "    }\n",
       "</style>\n",
       "<table border=\"1\" class=\"dataframe\">\n",
       "  <thead>\n",
       "    <tr style=\"text-align: right;\">\n",
       "      <th></th>\n",
       "      <th>discourse_id</th>\n",
       "      <th>essay_id</th>\n",
       "      <th>discourse_text</th>\n",
       "      <th>discourse_type</th>\n",
       "      <th>discourse_effectiveness</th>\n",
       "      <th>tokens</th>\n",
       "      <th>text_clean</th>\n",
       "    </tr>\n",
       "  </thead>\n",
       "  <tbody>\n",
       "    <tr>\n",
       "      <th>0</th>\n",
       "      <td>0013cc385424</td>\n",
       "      <td>007ACE74B050</td>\n",
       "      <td>Hi, i'm Isaac, i'm going to be writing about h...</td>\n",
       "      <td>Lead</td>\n",
       "      <td>Adequate</td>\n",
       "      <td>[hi, isaac, going, writing, face, mar, natural...</td>\n",
       "      <td>hi isaac going writing face mar natural landfo...</td>\n",
       "    </tr>\n",
       "    <tr>\n",
       "      <th>1</th>\n",
       "      <td>9704a709b505</td>\n",
       "      <td>007ACE74B050</td>\n",
       "      <td>On my perspective, I think that the face is a ...</td>\n",
       "      <td>Position</td>\n",
       "      <td>Adequate</td>\n",
       "      <td>[perspective, think, face, natural, landform, ...</td>\n",
       "      <td>perspective think face natural landform dont t...</td>\n",
       "    </tr>\n",
       "    <tr>\n",
       "      <th>2</th>\n",
       "      <td>c22adee811b6</td>\n",
       "      <td>007ACE74B050</td>\n",
       "      <td>I think that the face is a natural landform be...</td>\n",
       "      <td>Claim</td>\n",
       "      <td>Adequate</td>\n",
       "      <td>[think, face, natural, landform, no, life, mar...</td>\n",
       "      <td>think face natural landform no life mar descov...</td>\n",
       "    </tr>\n",
       "    <tr>\n",
       "      <th>3</th>\n",
       "      <td>a10d361e54e4</td>\n",
       "      <td>007ACE74B050</td>\n",
       "      <td>If life was on Mars, we would know by now. The...</td>\n",
       "      <td>Evidence</td>\n",
       "      <td>Adequate</td>\n",
       "      <td>[life, mar, would, know, reason, think, natura...</td>\n",
       "      <td>life mar would know reason think natural landf...</td>\n",
       "    </tr>\n",
       "    <tr>\n",
       "      <th>4</th>\n",
       "      <td>db3e453ec4e2</td>\n",
       "      <td>007ACE74B050</td>\n",
       "      <td>People thought that the face was formed by ali...</td>\n",
       "      <td>Counterclaim</td>\n",
       "      <td>Adequate</td>\n",
       "      <td>[people, thought, face, formed, alieans, thoug...</td>\n",
       "      <td>people thought face formed alieans thought lif...</td>\n",
       "    </tr>\n",
       "    <tr>\n",
       "      <th>5</th>\n",
       "      <td>36a565e45db7</td>\n",
       "      <td>007ACE74B050</td>\n",
       "      <td>though some say that life on Mars does exist, ...</td>\n",
       "      <td>Rebuttal</td>\n",
       "      <td>Ineffective</td>\n",
       "      <td>[though, say, life, mar, exist, think, no, lif...</td>\n",
       "      <td>though say life mar exist think no life mar</td>\n",
       "    </tr>\n",
       "    <tr>\n",
       "      <th>6</th>\n",
       "      <td>fb65fe816ba3</td>\n",
       "      <td>007ACE74B050</td>\n",
       "      <td>It says in paragraph 7, on April 5, 1998, Mars...</td>\n",
       "      <td>Evidence</td>\n",
       "      <td>Adequate</td>\n",
       "      <td>[say, paragraph, april, mar, global, surveyor,...</td>\n",
       "      <td>say paragraph april mar global surveyor flew c...</td>\n",
       "    </tr>\n",
       "    <tr>\n",
       "      <th>7</th>\n",
       "      <td>4e472e2584fa</td>\n",
       "      <td>007ACE74B050</td>\n",
       "      <td>Everyone who thought it was made by alieans ev...</td>\n",
       "      <td>Counterclaim</td>\n",
       "      <td>Adequate</td>\n",
       "      <td>[everyone, thought, made, alieans, even, thoug...</td>\n",
       "      <td>everyone thought made alieans even though not ...</td>\n",
       "    </tr>\n",
       "    <tr>\n",
       "      <th>8</th>\n",
       "      <td>28a94d3ee425</td>\n",
       "      <td>007ACE74B050</td>\n",
       "      <td>Though people were not satified about how the ...</td>\n",
       "      <td>Concluding Statement</td>\n",
       "      <td>Adequate</td>\n",
       "      <td>[though, people, not, satified, landform, natu...</td>\n",
       "      <td>though people not satified landform natural la...</td>\n",
       "    </tr>\n",
       "    <tr>\n",
       "      <th>9</th>\n",
       "      <td>d226f06362f5</td>\n",
       "      <td>00944C693682</td>\n",
       "      <td>Limiting the usage of cars has personal and pr...</td>\n",
       "      <td>Lead</td>\n",
       "      <td>Effective</td>\n",
       "      <td>[limiting, usage, car, personal, professional,...</td>\n",
       "      <td>limiting usage car personal professional suppo...</td>\n",
       "    </tr>\n",
       "  </tbody>\n",
       "</table>\n",
       "</div>"
      ],
      "text/plain": [
       "   discourse_id      essay_id  \\\n",
       "0  0013cc385424  007ACE74B050   \n",
       "1  9704a709b505  007ACE74B050   \n",
       "2  c22adee811b6  007ACE74B050   \n",
       "3  a10d361e54e4  007ACE74B050   \n",
       "4  db3e453ec4e2  007ACE74B050   \n",
       "5  36a565e45db7  007ACE74B050   \n",
       "6  fb65fe816ba3  007ACE74B050   \n",
       "7  4e472e2584fa  007ACE74B050   \n",
       "8  28a94d3ee425  007ACE74B050   \n",
       "9  d226f06362f5  00944C693682   \n",
       "\n",
       "                                      discourse_text        discourse_type  \\\n",
       "0  Hi, i'm Isaac, i'm going to be writing about h...                  Lead   \n",
       "1  On my perspective, I think that the face is a ...              Position   \n",
       "2  I think that the face is a natural landform be...                 Claim   \n",
       "3  If life was on Mars, we would know by now. The...              Evidence   \n",
       "4  People thought that the face was formed by ali...          Counterclaim   \n",
       "5  though some say that life on Mars does exist, ...              Rebuttal   \n",
       "6  It says in paragraph 7, on April 5, 1998, Mars...              Evidence   \n",
       "7  Everyone who thought it was made by alieans ev...          Counterclaim   \n",
       "8  Though people were not satified about how the ...  Concluding Statement   \n",
       "9  Limiting the usage of cars has personal and pr...                  Lead   \n",
       "\n",
       "  discourse_effectiveness                                             tokens  \\\n",
       "0                Adequate  [hi, isaac, going, writing, face, mar, natural...   \n",
       "1                Adequate  [perspective, think, face, natural, landform, ...   \n",
       "2                Adequate  [think, face, natural, landform, no, life, mar...   \n",
       "3                Adequate  [life, mar, would, know, reason, think, natura...   \n",
       "4                Adequate  [people, thought, face, formed, alieans, thoug...   \n",
       "5             Ineffective  [though, say, life, mar, exist, think, no, lif...   \n",
       "6                Adequate  [say, paragraph, april, mar, global, surveyor,...   \n",
       "7                Adequate  [everyone, thought, made, alieans, even, thoug...   \n",
       "8                Adequate  [though, people, not, satified, landform, natu...   \n",
       "9               Effective  [limiting, usage, car, personal, professional,...   \n",
       "\n",
       "                                          text_clean  \n",
       "0  hi isaac going writing face mar natural landfo...  \n",
       "1  perspective think face natural landform dont t...  \n",
       "2  think face natural landform no life mar descov...  \n",
       "3  life mar would know reason think natural landf...  \n",
       "4  people thought face formed alieans thought lif...  \n",
       "5        though say life mar exist think no life mar  \n",
       "6  say paragraph april mar global surveyor flew c...  \n",
       "7  everyone thought made alieans even though not ...  \n",
       "8  though people not satified landform natural la...  \n",
       "9  limiting usage car personal professional suppo...  "
      ]
     },
     "execution_count": 9,
     "metadata": {},
     "output_type": "execute_result"
    }
   ],
   "source": [
    "df.head(10)"
   ]
  },
  {
   "cell_type": "code",
   "execution_count": 10,
   "id": "bd6150d7",
   "metadata": {},
   "outputs": [],
   "source": [
    "df_clean = df[[\"discourse_id\", \"essay_id\", \"discourse_type\", \"discourse_effectiveness\", \"text_clean\"]]\n",
    "df_clean.to_csv(\"./data/train_clean.csv\")"
   ]
  },
  {
   "cell_type": "markdown",
   "id": "3510a3e3",
   "metadata": {},
   "source": [
    "## Sugerencias Chuy\n",
    "\n",
    "- Hay diferentes tipos de pasajas así que vale la pena investigar la frecuencia de cada pasaje.\n",
    "- Analizar la \"Adecuado, ineffectivo, e inadecuado\", en cada categoria del punto anterior\n",
    "- Analizar los digramas y trigramas de cada categoría.\n",
    "- Calcular longitud promedio y varianza de los pasajes."
   ]
  }
 ],
 "metadata": {
  "kernelspec": {
   "display_name": "proy2",
   "language": "python",
   "name": "python3"
  },
  "language_info": {
   "codemirror_mode": {
    "name": "ipython",
    "version": 3
   },
   "file_extension": ".py",
   "mimetype": "text/x-python",
   "name": "python",
   "nbconvert_exporter": "python",
   "pygments_lexer": "ipython3",
   "version": "3.12.2"
  }
 },
 "nbformat": 4,
 "nbformat_minor": 5
}
